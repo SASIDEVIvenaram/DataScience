{
 "cells": [
  {
   "cell_type": "markdown",
   "id": "5bcf9651-be9b-4fd0-88b4-9203c023f3ac",
   "metadata": {},
   "source": [
    "# Data Science Final Project\n"
   ]
  },
  {
   "cell_type": "markdown",
   "id": "39f4496a-19f9-40a9-98d8-90b3492dc3f3",
   "metadata": {},
   "source": [
    "## Introduction\n",
    "This notebook covers key aspects of data science, including languages, libraries, tools, and some arithmetic examples.\n"
   ]
  },
  {
   "cell_type": "markdown",
   "id": "f8b35eee-d5bb-4d59-be93-e33abfe8ae76",
   "metadata": {},
   "source": [
    "## Data Science Languages\n",
    "- Python\n",
    "- R\n",
    "- SQL\n",
    "- Julia\n"
   ]
  },
  {
   "cell_type": "markdown",
   "id": "f9807847-0eab-44bf-9255-4d287a767398",
   "metadata": {},
   "source": [
    "## Data Science Libraries\n",
    "- NumPy\n",
    "- Pandas\n",
    "- Matplotlib\n",
    "- Scikit-learn\n",
    "- TensorFlow\n"
   ]
  },
  {
   "cell_type": "markdown",
   "id": "2e39edfb-ec06-4144-a7e3-b30f111f1034",
   "metadata": {},
   "source": [
    "## Data Science Tools\n",
    "| Tool          | Description                       |\n",
    "|---------------|-----------------------------------|\n",
    "| Jupyter       | Interactive notebooks             |\n",
    "| RStudio       | IDE for R                         |\n",
    "| Apache Spark  | Big data processing framework     |\n"
   ]
  },
  {
   "cell_type": "markdown",
   "id": "b1c9586b-e63c-457e-86a1-427d80cf6993",
   "metadata": {},
   "source": [
    "## Arithmetic Expression Examples\r\n",
    "Below are examples of simple arithmetic operations.\r\n"
   ]
  },
  {
   "cell_type": "code",
   "execution_count": 10,
   "id": "b9b99c33-d016-4a1a-ad9f-794af52fceac",
   "metadata": {},
   "outputs": [
    {
     "data": {
      "text/plain": [
       "45"
      ]
     },
     "execution_count": 10,
     "metadata": {},
     "output_type": "execute_result"
    }
   ],
   "source": [
    "# Multiply and add numbers\n",
    "result = (5 * 7) + 10\n",
    "result\n"
   ]
  },
  {
   "cell_type": "code",
   "execution_count": 12,
   "id": "b23091a0-f181-4cc8-89d4-3d16cf36e0f6",
   "metadata": {},
   "outputs": [
    {
     "data": {
      "text/plain": [
       "2.0"
      ]
     },
     "execution_count": 12,
     "metadata": {},
     "output_type": "execute_result"
    }
   ],
   "source": [
    "# Convert minutes to hours\n",
    "minutes = 120\n",
    "hours = minutes / 60\n",
    "hours\n"
   ]
  },
  {
   "cell_type": "markdown",
   "id": "81ceb9c9-3d03-4b0c-8538-3dc2e783cfcf",
   "metadata": {},
   "source": [
    "## Objectives\n",
    "- Learn about different data science languages\n",
    "- Understand data science libraries\n",
    "- Explore data science tools\n"
   ]
  }
 ],
 "metadata": {
  "kernelspec": {
   "display_name": "Python 3 (ipykernel)",
   "language": "python",
   "name": "python3"
  },
  "language_info": {
   "codemirror_mode": {
    "name": "ipython",
    "version": 3
   },
   "file_extension": ".py",
   "mimetype": "text/x-python",
   "name": "python",
   "nbconvert_exporter": "python",
   "pygments_lexer": "ipython3",
   "version": "3.12.4"
  }
 },
 "nbformat": 4,
 "nbformat_minor": 5
}
